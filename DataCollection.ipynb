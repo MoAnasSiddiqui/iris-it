{
 "cells": [
  {
   "cell_type": "markdown",
   "metadata": {},
   "source": [
    "# Initializing setup"
   ]
  },
  {
   "cell_type": "code",
   "execution_count": 1,
   "metadata": {},
   "outputs": [],
   "source": [
    "import os\n",
    "import time\n",
    "import uuid\n",
    "import cv2"
   ]
  },
  {
   "cell_type": "markdown",
   "metadata": {},
   "source": [
    "# Collecting images"
   ]
  },
  {
   "cell_type": "code",
   "execution_count": 11,
   "metadata": {},
   "outputs": [],
   "source": [
    "TRAIN_PATH = os.path.join('real_data','train','images')\n",
    "TEST_PATH = os.path.join('real_data','test','images')\n",
    "VAL_PATH = os.path.join('real_data','val','images')"
   ]
  },
  {
   "cell_type": "markdown",
   "metadata": {},
   "source": [
    "### Training data"
   ]
  },
  {
   "cell_type": "code",
   "execution_count": 18,
   "metadata": {},
   "outputs": [
    {
     "name": "stdout",
     "output_type": "stream",
     "text": [
      "Collecting image 0: True\n",
      "Collecting image 1: True\n",
      "Collecting image 2: True\n",
      "Collecting image 3: True\n",
      "Collecting image 4: True\n",
      "Collecting image 5: True\n",
      "Collecting image 6: True\n",
      "Collecting image 7: True\n",
      "Collecting image 8: True\n",
      "Collecting image 9: True\n",
      "Collecting image 10: True\n",
      "Collecting image 11: True\n",
      "Collecting image 12: True\n",
      "Collecting image 13: True\n",
      "Collecting image 14: True\n",
      "Collecting image 15: True\n",
      "Collecting image 16: True\n",
      "Collecting image 17: True\n",
      "Collecting image 18: True\n",
      "Collecting image 19: True\n",
      "Collecting image 20: True\n",
      "Collecting image 21: True\n",
      "Collecting image 22: True\n",
      "Collecting image 23: True\n",
      "Collecting image 24: True\n",
      "Collecting image 25: True\n",
      "Collecting image 26: True\n",
      "Collecting image 27: True\n",
      "Collecting image 28: True\n",
      "Collecting image 29: True\n"
     ]
    }
   ],
   "source": [
    "train_num = 60\n",
    "\n",
    "cap = cv2.VideoCapture(0)\n",
    "for num in range(train_num):\n",
    "    ret, frame = cap.read()\n",
    "    print(f'Collecting image {num}: {ret}')\n",
    "    image_name = os.path.join(TRAIN_PATH, f'{str(uuid.uuid1())}.jpg')\n",
    "    cv2.imwrite(image_name, frame)\n",
    "    cv2.imshow('frame', frame)\n",
    "    time.sleep(1)\n",
    "\n",
    "    if cv2.waitKey(1) & 0xFF == ord('q'):\n",
    "        break\n",
    "\n",
    "cap.release()\n",
    "cv2.destroyAllWindows()"
   ]
  },
  {
   "cell_type": "markdown",
   "metadata": {},
   "source": [
    "### Test data"
   ]
  },
  {
   "cell_type": "code",
   "execution_count": 19,
   "metadata": {},
   "outputs": [
    {
     "name": "stdout",
     "output_type": "stream",
     "text": [
      "Collecting image 0: True\n",
      "Collecting image 1: True\n",
      "Collecting image 2: True\n",
      "Collecting image 3: True\n",
      "Collecting image 4: True\n",
      "Collecting image 5: True\n",
      "Collecting image 6: True\n",
      "Collecting image 7: True\n",
      "Collecting image 8: True\n",
      "Collecting image 9: True\n",
      "Collecting image 10: True\n",
      "Collecting image 11: True\n",
      "Collecting image 12: True\n",
      "Collecting image 13: True\n",
      "Collecting image 14: True\n",
      "Collecting image 15: True\n",
      "Collecting image 16: True\n",
      "Collecting image 17: True\n",
      "Collecting image 18: True\n",
      "Collecting image 19: True\n"
     ]
    }
   ],
   "source": [
    "test_num = 20\n",
    "\n",
    "cap = cv2.VideoCapture(0)\n",
    "for num in range(test_num):\n",
    "    ret, frame = cap.read()\n",
    "    print(f'Collecting image {num}: {ret}')\n",
    "    image_name = os.path.join(TEST_PATH, f'{str(uuid.uuid1())}.jpg')\n",
    "    cv2.imwrite(image_name, frame)\n",
    "    cv2.imshow('frame', frame)\n",
    "    time.sleep(1)\n",
    "\n",
    "    if cv2.waitKey(1) & 0xFF == ord('q'):\n",
    "        break\n",
    "\n",
    "cap.release()\n",
    "cv2.destroyAllWindows()"
   ]
  },
  {
   "cell_type": "markdown",
   "metadata": {},
   "source": [
    "### Validation data"
   ]
  },
  {
   "cell_type": "code",
   "execution_count": 20,
   "metadata": {},
   "outputs": [
    {
     "name": "stdout",
     "output_type": "stream",
     "text": [
      "Collecting image 0: True\n",
      "Collecting image 1: True\n",
      "Collecting image 2: True\n",
      "Collecting image 3: True\n",
      "Collecting image 4: True\n",
      "Collecting image 5: True\n",
      "Collecting image 6: True\n",
      "Collecting image 7: True\n",
      "Collecting image 8: True\n",
      "Collecting image 9: True\n",
      "Collecting image 10: True\n",
      "Collecting image 11: True\n",
      "Collecting image 12: True\n",
      "Collecting image 13: True\n",
      "Collecting image 14: True\n",
      "Collecting image 15: True\n",
      "Collecting image 16: True\n",
      "Collecting image 17: True\n",
      "Collecting image 18: True\n",
      "Collecting image 19: True\n",
      "Collecting image 20: True\n",
      "Collecting image 21: True\n",
      "Collecting image 22: True\n",
      "Collecting image 23: True\n",
      "Collecting image 24: True\n",
      "Collecting image 25: True\n",
      "Collecting image 26: True\n",
      "Collecting image 27: True\n",
      "Collecting image 28: True\n",
      "Collecting image 29: True\n",
      "Collecting image 30: True\n",
      "Collecting image 31: True\n",
      "Collecting image 32: True\n",
      "Collecting image 33: True\n",
      "Collecting image 34: True\n",
      "Collecting image 35: True\n",
      "Collecting image 36: True\n",
      "Collecting image 37: True\n",
      "Collecting image 38: True\n",
      "Collecting image 39: True\n",
      "Collecting image 40: True\n",
      "Collecting image 41: True\n",
      "Collecting image 42: True\n",
      "Collecting image 43: True\n",
      "Collecting image 44: True\n",
      "Collecting image 45: True\n",
      "Collecting image 46: True\n",
      "Collecting image 47: True\n",
      "Collecting image 48: True\n",
      "Collecting image 49: True\n"
     ]
    }
   ],
   "source": [
    "val_num = 50\n",
    "\n",
    "cap = cv2.VideoCapture(0)\n",
    "for num in range(val_num):\n",
    "    ret, frame = cap.read()\n",
    "    print(f'Collecting image {num}: {ret}')\n",
    "    image_name = os.path.join(VAL_PATH, f'{str(uuid.uuid1())}.jpg')\n",
    "    cv2.imwrite(image_name, frame)\n",
    "    cv2.imshow('frame', frame)\n",
    "    time.sleep(1)\n",
    "\n",
    "    if cv2.waitKey(1) & 0xFF == ord('q'):\n",
    "        break\n",
    "\n",
    "cap.release()\n",
    "cv2.destroyAllWindows()"
   ]
  },
  {
   "cell_type": "code",
   "execution_count": null,
   "metadata": {},
   "outputs": [],
   "source": []
  }
 ],
 "metadata": {
  "kernelspec": {
   "display_name": "Python 3",
   "language": "python",
   "name": "python3"
  },
  "language_info": {
   "codemirror_mode": {
    "name": "ipython",
    "version": 3
   },
   "file_extension": ".py",
   "mimetype": "text/x-python",
   "name": "python",
   "nbconvert_exporter": "python",
   "pygments_lexer": "ipython3",
   "version": "3.12.4"
  }
 },
 "nbformat": 4,
 "nbformat_minor": 2
}
