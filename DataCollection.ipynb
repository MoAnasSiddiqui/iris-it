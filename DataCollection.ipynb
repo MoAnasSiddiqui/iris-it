{
 "cells": [
  {
   "cell_type": "markdown",
   "metadata": {},
   "source": [
    "# Initializing setup"
   ]
  },
  {
   "cell_type": "code",
   "execution_count": null,
   "metadata": {},
   "outputs": [],
   "source": [
    "import os\n",
    "import time\n",
    "import uuid\n",
    "import cv2\n",
    "\n",
    "import json\n",
    "import numpy as np\n",
    "import matplotlib.pyplot as plt\n",
    "\n",
    "import albumentations as alb"
   ]
  },
  {
   "cell_type": "markdown",
   "metadata": {},
   "source": [
    "# Collecting images"
   ]
  },
  {
   "cell_type": "code",
   "execution_count": 11,
   "metadata": {},
   "outputs": [],
   "source": [
    "TRAIN_PATH = os.path.join('real_data','train','images')\n",
    "TEST_PATH = os.path.join('real_data','test','images')\n",
    "VAL_PATH = os.path.join('real_data','val','images')"
   ]
  },
  {
   "cell_type": "markdown",
   "metadata": {},
   "source": [
    "### Training data"
   ]
  },
  {
   "cell_type": "code",
   "execution_count": null,
   "metadata": {},
   "outputs": [],
   "source": [
    "train_num = 60\n",
    "\n",
    "cap = cv2.VideoCapture(0)\n",
    "for num in range(train_num):\n",
    "    ret, frame = cap.read()\n",
    "    print(f'Collecting image {num}: {ret}')\n",
    "    image_name = os.path.join(TRAIN_PATH, f'{str(uuid.uuid1())}.jpg')\n",
    "    cv2.imwrite(image_name, frame)\n",
    "    cv2.imshow('frame', frame)\n",
    "    time.sleep(1)\n",
    "\n",
    "    if cv2.waitKey(1) & 0xFF == ord('q'):\n",
    "        break\n",
    "\n",
    "cap.release()\n",
    "cv2.destroyAllWindows()"
   ]
  },
  {
   "cell_type": "markdown",
   "metadata": {},
   "source": [
    "### Test data"
   ]
  },
  {
   "cell_type": "code",
   "execution_count": null,
   "metadata": {},
   "outputs": [],
   "source": [
    "test_num = 20\n",
    "\n",
    "cap = cv2.VideoCapture(0)\n",
    "for num in range(test_num):\n",
    "    ret, frame = cap.read()\n",
    "    print(f'Collecting image {num}: {ret}')\n",
    "    image_name = os.path.join(TEST_PATH, f'{str(uuid.uuid1())}.jpg')\n",
    "    cv2.imwrite(image_name, frame)\n",
    "    cv2.imshow('frame', frame)\n",
    "    time.sleep(1)\n",
    "\n",
    "    if cv2.waitKey(1) & 0xFF == ord('q'):\n",
    "        break\n",
    "\n",
    "cap.release()\n",
    "cv2.destroyAllWindows()"
   ]
  },
  {
   "cell_type": "markdown",
   "metadata": {},
   "source": [
    "### Validation data"
   ]
  },
  {
   "cell_type": "code",
   "execution_count": null,
   "metadata": {},
   "outputs": [],
   "source": [
    "val_num = 50\n",
    "\n",
    "cap = cv2.VideoCapture(0)\n",
    "for num in range(val_num):\n",
    "    ret, frame = cap.read()\n",
    "    print(f'Collecting image {num}: {ret}')\n",
    "    image_name = os.path.join(VAL_PATH, f'{str(uuid.uuid1())}.jpg')\n",
    "    cv2.imwrite(image_name, frame)\n",
    "    cv2.imshow('frame', frame)\n",
    "    time.sleep(1)\n",
    "\n",
    "    if cv2.waitKey(1) & 0xFF == ord('q'):\n",
    "        break\n",
    "\n",
    "cap.release()\n",
    "cv2.destroyAllWindows()"
   ]
  },
  {
   "cell_type": "markdown",
   "metadata": {},
   "source": [
    "# Creating labels"
   ]
  },
  {
   "cell_type": "code",
   "execution_count": null,
   "metadata": {},
   "outputs": [],
   "source": [
    "!labelme"
   ]
  },
  {
   "cell_type": "markdown",
   "metadata": {},
   "source": [
    "# Viewing data"
   ]
  },
  {
   "cell_type": "code",
   "execution_count": null,
   "metadata": {},
   "outputs": [],
   "source": [
    "random_image = cv2.cvtColor(cv2.imread('real_data/train/images/4aa22d35-7358-11ef-b59c-50eb71bdd737.jpg'), cv2.COLOR_BGR2RGB)\n",
    "with open(os.path.join('real_data/train/labels/4aa22d35-7358-11ef-b59c-50eb71bdd737.json'), 'r') as f:\n",
    "    random_label = json.load(f)\n",
    "\n",
    "random_label['shapes']"
   ]
  },
  {
   "cell_type": "code",
   "execution_count": null,
   "metadata": {},
   "outputs": [],
   "source": [
    "plt.imshow(random_image)\n",
    "plt.plot(random_label['shapes'][0]['points'][0][0], random_label['shapes'][0]['points'][0][1], 'rx')\n",
    "plt.plot(random_label['shapes'][1]['points'][0][0], random_label['shapes'][1]['points'][0][1], 'gx')"
   ]
  },
  {
   "cell_type": "markdown",
   "metadata": {},
   "source": [
    "# Augmenting data"
   ]
  },
  {
   "cell_type": "code",
   "execution_count": 2,
   "metadata": {},
   "outputs": [],
   "source": [
    "augmentor = alb.Compose([alb.RandomCrop(width=450, height=450),\n",
    "                         alb.HorizontalFlip(p=0.5),\n",
    "                         alb.RandomBrightnessContrast(p=0.2),\n",
    "                         alb.RandomGamma(p=0.2),\n",
    "                         alb.RGBShift(p=0.2),\n",
    "                         alb.VerticalFlip(p=0.5)],\n",
    "                        keypoint_params=alb.KeypointParams(format='xy', label_fields=['class_labels']))"
   ]
  },
  {
   "cell_type": "code",
   "execution_count": 5,
   "metadata": {},
   "outputs": [],
   "source": [
    "def assign_labels(label, classes, coords, position):\n",
    "    if label['shapes'][position]['label'] == 'LeftEye':\n",
    "        classes[0] = 1\n",
    "        coords[0] = label['shapes'][position]['points'][0][0]\n",
    "        coords[1] = label['shapes'][position]['points'][0][1]\n",
    "\n",
    "    if label['shapes'][position]['label'] == 'RightEye':\n",
    "        classes[1] = 1\n",
    "        coords[2] = label['shapes'][position]['points'][0][0]\n",
    "        coords[3] = label['shapes'][position]['points'][0][1]\n",
    "\n",
    "    return classes, coords\n",
    "\n",
    "for folder in ['train','test','val']:\n",
    "    for image_name in os.listdir(os.path.join('real_data', folder, 'images')):\n",
    "        classes = [0,0]\n",
    "        coords = [0,0,0.00001,0.00001]\n",
    "\n",
    "        image_path = os.path.join('real_data', folder, 'images', image_name)\n",
    "        label_path = os.path.join('real_data', folder, 'labels', f'{image_name.split('.')[0]}.json')\n",
    "        img = cv2.imread(image_path)\n",
    "        \n",
    "        if os.path.exists(label_path):\n",
    "            with open(label_path, 'r') as f: label = json.load(f)\n",
    "\n",
    "            classes, coords = assign_labels(label, classes, coords, 0)\n",
    "\n",
    "            if len(label['shapes']) == 2:\n",
    "                classes, coords = assign_labels(label, classes, coords, 1)\n",
    "\n",
    "            np.divide(coords, [640,480, 640, 480])\n",
    "\n",
    "        try:\n",
    "            for x in range(10):\n",
    "                augmented = augmentor(image = img, keypoints = [coords[:2], coords[2:]], class_labels = ['LeftEye','RightEye'])\n",
    "                augmented_image_path = os.path.join('aug_data', folder, 'images', f'{image_name.split('.')[0]}.{x}.jpg')\n",
    "                augmented_label_path = os.path.join('aug_data', folder, 'labels', f'{image_name.split('.')[0]}.{x}.json')\n",
    "\n",
    "                cv2.imwrite(augmented_image_path, augmented['image'])\n",
    "                annotation = {}\n",
    "                annotation['image'] = image_path\n",
    "                annotation['class'] = [0, 0]\n",
    "                annotation['coords'] = [0, 0, 0, 0]\n",
    "                \n",
    "                if os.path.exists(label_path):\n",
    "                    if len(augmented['keypoints']) > 0:\n",
    "                        for idx, label in enumerate(augmented['class_labels']):\n",
    "                            if label == 'LeftEye':\n",
    "                                annotation['class'][0] = 1\n",
    "                                annotation['coords'][0] = augmented['keypoints'][idx][0]\n",
    "                                annotation['coords'][1] = augmented['keypoints'][idx][1]\n",
    "                            \n",
    "                            if label == 'RightEye':\n",
    "                                annotation['class'][1] = 1\n",
    "                                annotation['coords'][2] = augmented['keypoints'][idx][0]\n",
    "                                annotation['coords'][3] = augmented['keypoints'][idx][1]\n",
    "                \n",
    "                annotation['coords'] = list(np.divide(annotation['coords'], [450, 450, 450, 450]))\n",
    "                with open(augmented_label_path, 'w') as f:\n",
    "                    json.dump(annotation, f)\n",
    "\n",
    "        except Exception as e:\n",
    "            print(e)"
   ]
  }
 ],
 "metadata": {
  "kernelspec": {
   "display_name": "Python 3",
   "language": "python",
   "name": "python3"
  },
  "language_info": {
   "codemirror_mode": {
    "name": "ipython",
    "version": 3
   },
   "file_extension": ".py",
   "mimetype": "text/x-python",
   "name": "python",
   "nbconvert_exporter": "python",
   "pygments_lexer": "ipython3",
   "version": "3.12.4"
  }
 },
 "nbformat": 4,
 "nbformat_minor": 2
}
